{
 "cells": [
  {
   "cell_type": "markdown",
   "id": "5f4334e5",
   "metadata": {},
   "source": [
    "# Multiple Regression 50 Startups Data Set"
   ]
  },
  {
   "cell_type": "code",
   "execution_count": 56,
   "id": "d5b4c23e",
   "metadata": {},
   "outputs": [],
   "source": [
    "# Importing the Libraries\n",
    "import numpy as np\n",
    "import matplotlib.pyplot as plt\n",
    "import pandas as pd\n",
    "import seaborn as sns\n",
    "%matplotlib inline\n",
    "\n",
    "from sklearn.compose import ColumnTransformer\n",
    "from sklearn.preprocessing import OneHotEncoder\n",
    "from sklearn.preprocessing import LabelEncoder"
   ]
  },
  {
   "cell_type": "code",
   "execution_count": 57,
   "id": "b65b76cd",
   "metadata": {},
   "outputs": [
    {
     "data": {
      "text/html": [
       "<div>\n",
       "<style scoped>\n",
       "    .dataframe tbody tr th:only-of-type {\n",
       "        vertical-align: middle;\n",
       "    }\n",
       "\n",
       "    .dataframe tbody tr th {\n",
       "        vertical-align: top;\n",
       "    }\n",
       "\n",
       "    .dataframe thead th {\n",
       "        text-align: right;\n",
       "    }\n",
       "</style>\n",
       "<table border=\"1\" class=\"dataframe\">\n",
       "  <thead>\n",
       "    <tr style=\"text-align: right;\">\n",
       "      <th></th>\n",
       "      <th>R&amp;D Spend</th>\n",
       "      <th>Administration</th>\n",
       "      <th>Marketing Spend</th>\n",
       "      <th>State</th>\n",
       "      <th>Profit</th>\n",
       "    </tr>\n",
       "  </thead>\n",
       "  <tbody>\n",
       "    <tr>\n",
       "      <th>0</th>\n",
       "      <td>165349.20</td>\n",
       "      <td>136897.80</td>\n",
       "      <td>471784.10</td>\n",
       "      <td>New York</td>\n",
       "      <td>192261.83</td>\n",
       "    </tr>\n",
       "    <tr>\n",
       "      <th>1</th>\n",
       "      <td>162597.70</td>\n",
       "      <td>151377.59</td>\n",
       "      <td>443898.53</td>\n",
       "      <td>California</td>\n",
       "      <td>191792.06</td>\n",
       "    </tr>\n",
       "    <tr>\n",
       "      <th>2</th>\n",
       "      <td>153441.51</td>\n",
       "      <td>101145.55</td>\n",
       "      <td>407934.54</td>\n",
       "      <td>Florida</td>\n",
       "      <td>191050.39</td>\n",
       "    </tr>\n",
       "    <tr>\n",
       "      <th>3</th>\n",
       "      <td>144372.41</td>\n",
       "      <td>118671.85</td>\n",
       "      <td>383199.62</td>\n",
       "      <td>New York</td>\n",
       "      <td>182901.99</td>\n",
       "    </tr>\n",
       "    <tr>\n",
       "      <th>4</th>\n",
       "      <td>142107.34</td>\n",
       "      <td>91391.77</td>\n",
       "      <td>366168.42</td>\n",
       "      <td>Florida</td>\n",
       "      <td>166187.94</td>\n",
       "    </tr>\n",
       "  </tbody>\n",
       "</table>\n",
       "</div>"
      ],
      "text/plain": [
       "   R&D Spend  Administration  Marketing Spend       State     Profit\n",
       "0  165349.20       136897.80        471784.10    New York  192261.83\n",
       "1  162597.70       151377.59        443898.53  California  191792.06\n",
       "2  153441.51       101145.55        407934.54     Florida  191050.39\n",
       "3  144372.41       118671.85        383199.62    New York  182901.99\n",
       "4  142107.34        91391.77        366168.42     Florida  166187.94"
      ]
     },
     "execution_count": 57,
     "metadata": {},
     "output_type": "execute_result"
    }
   ],
   "source": [
    "dataset = pd.read_csv('50_Startups.csv')\n",
    "X = dataset.iloc[:, :-1].values\n",
    "y = dataset.iloc[:, -1].values\n",
    "\n",
    "dataset.head()"
   ]
  },
  {
   "cell_type": "code",
   "execution_count": 58,
   "id": "e83510f0",
   "metadata": {},
   "outputs": [
    {
     "data": {
      "text/html": [
       "<div>\n",
       "<style scoped>\n",
       "    .dataframe tbody tr th:only-of-type {\n",
       "        vertical-align: middle;\n",
       "    }\n",
       "\n",
       "    .dataframe tbody tr th {\n",
       "        vertical-align: top;\n",
       "    }\n",
       "\n",
       "    .dataframe thead th {\n",
       "        text-align: right;\n",
       "    }\n",
       "</style>\n",
       "<table border=\"1\" class=\"dataframe\">\n",
       "  <thead>\n",
       "    <tr style=\"text-align: right;\">\n",
       "      <th></th>\n",
       "      <th>R&amp;D Spend</th>\n",
       "      <th>Administration</th>\n",
       "      <th>Marketing Spend</th>\n",
       "      <th>State</th>\n",
       "      <th>Profit</th>\n",
       "    </tr>\n",
       "  </thead>\n",
       "  <tbody>\n",
       "    <tr>\n",
       "      <th>0</th>\n",
       "      <td>165349.20</td>\n",
       "      <td>136897.80</td>\n",
       "      <td>471784.10</td>\n",
       "      <td>2</td>\n",
       "      <td>192261.83</td>\n",
       "    </tr>\n",
       "    <tr>\n",
       "      <th>1</th>\n",
       "      <td>162597.70</td>\n",
       "      <td>151377.59</td>\n",
       "      <td>443898.53</td>\n",
       "      <td>0</td>\n",
       "      <td>191792.06</td>\n",
       "    </tr>\n",
       "    <tr>\n",
       "      <th>2</th>\n",
       "      <td>153441.51</td>\n",
       "      <td>101145.55</td>\n",
       "      <td>407934.54</td>\n",
       "      <td>1</td>\n",
       "      <td>191050.39</td>\n",
       "    </tr>\n",
       "    <tr>\n",
       "      <th>3</th>\n",
       "      <td>144372.41</td>\n",
       "      <td>118671.85</td>\n",
       "      <td>383199.62</td>\n",
       "      <td>2</td>\n",
       "      <td>182901.99</td>\n",
       "    </tr>\n",
       "    <tr>\n",
       "      <th>4</th>\n",
       "      <td>142107.34</td>\n",
       "      <td>91391.77</td>\n",
       "      <td>366168.42</td>\n",
       "      <td>1</td>\n",
       "      <td>166187.94</td>\n",
       "    </tr>\n",
       "  </tbody>\n",
       "</table>\n",
       "</div>"
      ],
      "text/plain": [
       "   R&D Spend  Administration  Marketing Spend  State     Profit\n",
       "0  165349.20       136897.80        471784.10      2  192261.83\n",
       "1  162597.70       151377.59        443898.53      0  191792.06\n",
       "2  153441.51       101145.55        407934.54      1  191050.39\n",
       "3  144372.41       118671.85        383199.62      2  182901.99\n",
       "4  142107.34        91391.77        366168.42      1  166187.94"
      ]
     },
     "execution_count": 58,
     "metadata": {},
     "output_type": "execute_result"
    }
   ],
   "source": [
    "ct = ColumnTransformer(transformers=[('encoder'\n",
    "                                      , OneHotEncoder()\n",
    "                                      , [3])]\n",
    "                       , remainder='passthrough')\n",
    "\n",
    "X = np.array(ct.fit_transform(X))\n",
    "\n",
    "labelencoder = LabelEncoder()\n",
    "\n",
    "dataset['State'] = labelencoder.fit_transform(dataset['State'])\n",
    "dataset = pd.get_dummies(dataset)\n",
    "\n",
    "dataset.head()"
   ]
  },
  {
   "cell_type": "code",
   "execution_count": 59,
   "id": "e1938634",
   "metadata": {},
   "outputs": [
    {
     "data": {
      "text/plain": [
       "<Axes: >"
      ]
     },
     "execution_count": 59,
     "metadata": {},
     "output_type": "execute_result"
    },
    {
     "data": {
      "image/png": "[encoded data removed]",
      "text/plain": [
       "<Figure size 640x480 with 2 Axes>"
      ]
     },
     "metadata": {},
     "output_type": "display_data"
    }
   ],
   "source": [
    "sns.heatmap(dataset.corr())"
   ]
  },
  {
   "cell_type": "code",
   "execution_count": 60,
   "id": "e83ca294",
   "metadata": {},
   "outputs": [],
   "source": [
    "# Avoiding the Dummy Variable Trap\n",
    "X = X[:, 1:]\n",
    "\n",
    "from sklearn.model_selection import train_test_split\n",
    "X_train, X_test, y_train, y_test = train_test_split(X\n",
    "                                                   , y\n",
    "                                                   , test_size = 0.2\n",
    "                                                   , random_state = 0)"
   ]
  },
  {
   "cell_type": "code",
   "execution_count": 61,
   "id": "2d87e6ef",
   "metadata": {},
   "outputs": [
    {
     "name": "stdout",
     "output_type": "stream",
     "text": [
      "Coefficients: \n",
      " [-9.59e+02  6.99e+02  7.73e-01  3.29e-02  3.66e-02]\n",
      "\n",
      " Intercept: \n",
      " 42554.16761776614\n"
     ]
    }
   ],
   "source": [
    "from sklearn.linear_model import LinearRegression\n",
    "regressor = LinearRegression()\n",
    "regressor.fit(X_train, y_train)\n",
    "\n",
    "print('Coefficients: \\n', regressor.coef_)\n",
    "print('\\n Intercept: \\n', regressor.intercept_)"
   ]
  },
  {
   "cell_type": "code",
   "execution_count": 62,
   "id": "86d15b00",
   "metadata": {},
   "outputs": [
    {
     "name": "stdout",
     "output_type": "stream",
     "text": [
      "[[103015.2  103282.38]\n",
      " [132582.28 144259.4 ]\n",
      " [132447.74 146121.95]\n",
      " [ 71976.1   77798.83]\n",
      " [178537.48 191050.39]\n",
      " [116161.24 105008.31]\n",
      " [ 67851.69  81229.06]\n",
      " [ 98791.73  97483.56]\n",
      " [113969.44 110352.25]\n",
      " [167921.07 166187.94]]\n"
     ]
    }
   ],
   "source": [
    "y_pred = regressor.predict(X_test)\n",
    "np.set_printoptions(precision=2)\n",
    "print(np.concatenate((y_pred.reshape(len(y_pred),1)\n",
    "                     , y_test.reshape(len(y_test),1)),1))"
   ]
  },
  {
   "cell_type": "code",
   "execution_count": 63,
   "id": "d75fe236",
   "metadata": {},
   "outputs": [
    {
     "name": "stdout",
     "output_type": "stream",
     "text": [
      "R-squared value for the training set:  0.9501847627493607\n",
      "R-squared value for the training set:  0.9347068473282966\n"
     ]
    }
   ],
   "source": [
    "# print the R-squared value for the training data\n",
    "r_squared_train = regressor.score(X_train, y_train)\n",
    "print('R-squared value for the training set: ', r_squared_train)\n",
    "\n",
    "# print the R-squared value for the test data\n",
    "r_squared_test = regressor.score(X_test, y_test)\n",
    "print('R-squared value for the training set: ', r_squared_test)"
   ]
  },
  {
   "cell_type": "code",
   "execution_count": 64,
   "id": "64bf17e4",
   "metadata": {},
   "outputs": [
    {
     "name": "stdout",
     "output_type": "stream",
     "text": [
      "y = -959.28*x0 + 699.37*x1 + 0.77*x2 + 0.03*x3 + 0.04*x4 + 42554.17\n"
     ]
    }
   ],
   "source": [
    "coefficients = regressor.coef_\n",
    "intercept = regressor.intercept_\n",
    "\n",
    "equation = 'y = '\n",
    "for i in range(len(coefficients)):\n",
    "    equation += f\"{coefficients[i]:.2f}*x{i} + \"\n",
    "equation += f\"{intercept:.2f}\"\n",
    "\n",
    "print(equation)"
   ]
  },
  {
   "cell_type": "markdown",
   "id": "5396f4ec",
   "metadata": {},
   "source": [
    "# Multiple Regression 1000 Companies Data Set"
   ]
  },
  {
   "cell_type": "code",
   "execution_count": 65,
   "id": "901b5578",
   "metadata": {},
   "outputs": [
    {
     "data": {
      "text/html": [
       "<div>\n",
       "<style scoped>\n",
       "    .dataframe tbody tr th:only-of-type {\n",
       "        vertical-align: middle;\n",
       "    }\n",
       "\n",
       "    .dataframe tbody tr th {\n",
       "        vertical-align: top;\n",
       "    }\n",
       "\n",
       "    .dataframe thead th {\n",
       "        text-align: right;\n",
       "    }\n",
       "</style>\n",
       "<table border=\"1\" class=\"dataframe\">\n",
       "  <thead>\n",
       "    <tr style=\"text-align: right;\">\n",
       "      <th></th>\n",
       "      <th>R&amp;D Spend</th>\n",
       "      <th>Administration</th>\n",
       "      <th>Marketing Spend</th>\n",
       "      <th>State</th>\n",
       "      <th>Profit</th>\n",
       "    </tr>\n",
       "  </thead>\n",
       "  <tbody>\n",
       "    <tr>\n",
       "      <th>0</th>\n",
       "      <td>165349.20</td>\n",
       "      <td>136897.80</td>\n",
       "      <td>471784.10</td>\n",
       "      <td>New York</td>\n",
       "      <td>192261.83</td>\n",
       "    </tr>\n",
       "    <tr>\n",
       "      <th>1</th>\n",
       "      <td>162597.70</td>\n",
       "      <td>151377.59</td>\n",
       "      <td>443898.53</td>\n",
       "      <td>California</td>\n",
       "      <td>191792.06</td>\n",
       "    </tr>\n",
       "    <tr>\n",
       "      <th>2</th>\n",
       "      <td>153441.51</td>\n",
       "      <td>101145.55</td>\n",
       "      <td>407934.54</td>\n",
       "      <td>Florida</td>\n",
       "      <td>191050.39</td>\n",
       "    </tr>\n",
       "    <tr>\n",
       "      <th>3</th>\n",
       "      <td>144372.41</td>\n",
       "      <td>118671.85</td>\n",
       "      <td>383199.62</td>\n",
       "      <td>New York</td>\n",
       "      <td>182901.99</td>\n",
       "    </tr>\n",
       "    <tr>\n",
       "      <th>4</th>\n",
       "      <td>142107.34</td>\n",
       "      <td>91391.77</td>\n",
       "      <td>366168.42</td>\n",
       "      <td>Florida</td>\n",
       "      <td>166187.94</td>\n",
       "    </tr>\n",
       "  </tbody>\n",
       "</table>\n",
       "</div>"
      ],
      "text/plain": [
       "   R&D Spend  Administration  Marketing Spend       State     Profit\n",
       "0  165349.20       136897.80        471784.10    New York  192261.83\n",
       "1  162597.70       151377.59        443898.53  California  191792.06\n",
       "2  153441.51       101145.55        407934.54     Florida  191050.39\n",
       "3  144372.41       118671.85        383199.62    New York  182901.99\n",
       "4  142107.34        91391.77        366168.42     Florida  166187.94"
      ]
     },
     "execution_count": 65,
     "metadata": {},
     "output_type": "execute_result"
    }
   ],
   "source": [
    "dataset = pd.read_csv('1000_Companies.csv')\n",
    "X = dataset.iloc[:, :-1].values\n",
    "y = dataset.iloc[:, -1].values\n",
    "\n",
    "dataset.head()"
   ]
  },
  {
   "cell_type": "code",
   "execution_count": 66,
   "id": "cf8f0f1d",
   "metadata": {},
   "outputs": [
    {
     "data": {
      "text/html": [
       "<div>\n",
       "<style scoped>\n",
       "    .dataframe tbody tr th:only-of-type {\n",
       "        vertical-align: middle;\n",
       "    }\n",
       "\n",
       "    .dataframe tbody tr th {\n",
       "        vertical-align: top;\n",
       "    }\n",
       "\n",
       "    .dataframe thead th {\n",
       "        text-align: right;\n",
       "    }\n",
       "</style>\n",
       "<table border=\"1\" class=\"dataframe\">\n",
       "  <thead>\n",
       "    <tr style=\"text-align: right;\">\n",
       "      <th></th>\n",
       "      <th>R&amp;D Spend</th>\n",
       "      <th>Administration</th>\n",
       "      <th>Marketing Spend</th>\n",
       "      <th>State</th>\n",
       "      <th>Profit</th>\n",
       "    </tr>\n",
       "  </thead>\n",
       "  <tbody>\n",
       "    <tr>\n",
       "      <th>0</th>\n",
       "      <td>165349.20</td>\n",
       "      <td>136897.80</td>\n",
       "      <td>471784.10</td>\n",
       "      <td>2</td>\n",
       "      <td>192261.83</td>\n",
       "    </tr>\n",
       "    <tr>\n",
       "      <th>1</th>\n",
       "      <td>162597.70</td>\n",
       "      <td>151377.59</td>\n",
       "      <td>443898.53</td>\n",
       "      <td>0</td>\n",
       "      <td>191792.06</td>\n",
       "    </tr>\n",
       "    <tr>\n",
       "      <th>2</th>\n",
       "      <td>153441.51</td>\n",
       "      <td>101145.55</td>\n",
       "      <td>407934.54</td>\n",
       "      <td>1</td>\n",
       "      <td>191050.39</td>\n",
       "    </tr>\n",
       "    <tr>\n",
       "      <th>3</th>\n",
       "      <td>144372.41</td>\n",
       "      <td>118671.85</td>\n",
       "      <td>383199.62</td>\n",
       "      <td>2</td>\n",
       "      <td>182901.99</td>\n",
       "    </tr>\n",
       "    <tr>\n",
       "      <th>4</th>\n",
       "      <td>142107.34</td>\n",
       "      <td>91391.77</td>\n",
       "      <td>366168.42</td>\n",
       "      <td>1</td>\n",
       "      <td>166187.94</td>\n",
       "    </tr>\n",
       "  </tbody>\n",
       "</table>\n",
       "</div>"
      ],
      "text/plain": [
       "   R&D Spend  Administration  Marketing Spend  State     Profit\n",
       "0  165349.20       136897.80        471784.10      2  192261.83\n",
       "1  162597.70       151377.59        443898.53      0  191792.06\n",
       "2  153441.51       101145.55        407934.54      1  191050.39\n",
       "3  144372.41       118671.85        383199.62      2  182901.99\n",
       "4  142107.34        91391.77        366168.42      1  166187.94"
      ]
     },
     "execution_count": 66,
     "metadata": {},
     "output_type": "execute_result"
    }
   ],
   "source": [
    "ct = ColumnTransformer(transformers=[('encoder'\n",
    "                                      , OneHotEncoder()\n",
    "                                      , [3])]\n",
    "                       , remainder='passthrough')\n",
    "\n",
    "X = np.array(ct.fit_transform(X))\n",
    "\n",
    "labelencoder = LabelEncoder()\n",
    "\n",
    "dataset['State'] = labelencoder.fit_transform(dataset['State'])\n",
    "dataset = pd.get_dummies(dataset)\n",
    "\n",
    "dataset.head()"
   ]
  },
  {
   "cell_type": "code",
   "execution_count": 67,
   "id": "5cc9da10",
   "metadata": {},
   "outputs": [
    {
     "data": {
      "text/plain": [
       "<Axes: >"
      ]
     },
     "execution_count": 67,
     "metadata": {},
     "output_type": "execute_result"
    },
    {
     "data": {
      "image/png": "[encoded data removed]",
      "text/plain": [
       "<Figure size 640x480 with 2 Axes>"
      ]
     },
     "metadata": {},
     "output_type": "display_data"
    }
   ],
   "source": [
    "sns.heatmap(dataset.corr())"
   ]
  },
  {
   "cell_type": "code",
   "execution_count": 68,
   "id": "3946e86a",
   "metadata": {},
   "outputs": [],
   "source": [
    "# Avoiding the Dummy Variable Trap\n",
    "X = X[:, 1:]\n",
    "\n",
    "from sklearn.model_selection import train_test_split\n",
    "X_train, X_test, y_train, y_test = train_test_split(X\n",
    "                                                   , y\n",
    "                                                   , test_size = 0.2\n",
    "                                                   , random_state = 0)"
   ]
  },
  {
   "cell_type": "code",
   "execution_count": 69,
   "id": "86ba3a14",
   "metadata": {},
   "outputs": [
    {
     "name": "stdout",
     "output_type": "stream",
     "text": [
      "Coefficients: \n",
      " [-8.81e+02 -6.98e+02  5.26e-01  8.44e-01  1.08e-01]\n",
      "\n",
      " Intercept: \n",
      " -51035.22972403464\n"
     ]
    }
   ],
   "source": [
    "from sklearn.linear_model import LinearRegression\n",
    "regressor = LinearRegression()\n",
    "regressor.fit(X_train, y_train)\n",
    "\n",
    "print('Coefficients: \\n', regressor.coef_)\n",
    "print('\\n Intercept: \\n', regressor.intercept_)"
   ]
  },
  {
   "cell_type": "code",
   "execution_count": 70,
   "id": "2d65ddfc",
   "metadata": {},
   "outputs": [
    {
     "name": "stdout",
     "output_type": "stream",
     "text": [
      "[[ 89790.62  89012.03]\n",
      " [ 88427.07  87654.56]\n",
      " [ 94894.68  94093.35]\n",
      " [175680.87 175396.26]\n",
      " [ 83411.73  83356.62]\n",
      " [110571.9  110395.79]\n",
      " [132145.23 105008.31]\n",
      " [ 91473.38  90687.29]\n",
      " [164597.05 164180.27]\n",
      " [ 53222.83  53483.76]\n",
      " [ 66950.19  66273.35]\n",
      " [150566.44 150393.72]\n",
      " [126915.21 125971.23]\n",
      " [ 59337.86  58694.93]\n",
      " [177513.91 176344.52]\n",
      " [ 75316.28  75297.23]\n",
      " [118248.14 118219.39]\n",
      " [164574.41 163462.67]\n",
      " [170937.29 132602.65]\n",
      " [182069.12 181574.5 ]\n",
      " [118845.03  97483.56]\n",
      " [ 85669.95  84909.72]\n",
      " [180992.59 180684.33]\n",
      " [ 84145.08  83391.64]\n",
      " [105005.84 104159.47]\n",
      " [101233.57 100404.  ]\n",
      " [ 53831.08  64926.08]\n",
      " [ 56881.41  56944.49]\n",
      " [ 68896.39  68210.89]\n",
      " [210040.01 191792.06]\n",
      " [120778.72 120738.7 ]\n",
      " [111724.87 110848.57]\n",
      " [101487.91 101352.27]\n",
      " [137959.03 137842.47]\n",
      " [ 63969.96  63306.4 ]\n",
      " [108857.91 107994.38]\n",
      " [186014.73 185502.53]\n",
      " [171442.64 171176.92]\n",
      " [174644.27 174364.28]\n",
      " [117671.49 117645.31]\n",
      " [ 96731.38  96616.93]\n",
      " [165452.26 164336.61]\n",
      " [107724.34 106865.86]\n",
      " [ 50194.54  50468.96]\n",
      " [116513.9  116492.87]\n",
      " [ 58632.49  57992.71]\n",
      " [158416.47 158208.77]\n",
      " [ 78541.49  78689.62]\n",
      " [159727.67 159514.13]\n",
      " [131137.88 131051.71]\n",
      " [184880.71 184555.12]\n",
      " [174609.08 174329.25]\n",
      " [ 93745.66  92949.46]\n",
      " [ 78341.13  78308.61]\n",
      " [180745.9  180257.18]\n",
      " [ 84461.61  84583.38]\n",
      " [142900.91 142762.33]\n",
      " [170618.44 170174.83]\n",
      " [ 84365.1   84305.74]\n",
      " [105307.37 105154.72]\n",
      " [141660.07 141527.03]\n",
      " [ 52527.34  52609.82]\n",
      " [141842.96 140832.49]\n",
      " [139176.28 138872.74]\n",
      " [ 98294.53  97478.05]\n",
      " [113586.87 113578.88]\n",
      " [126754.22 126506.02]\n",
      " [152135.52 151774.25]\n",
      " [ 58864.52  58918.76]\n",
      " [174285.57 174007.18]\n",
      " [124624.04 123690.28]\n",
      " [169065.78 167934.03]\n",
      " [ 91279.33  91370.73]\n",
      " [156170.37 155791.13]\n",
      " [ 84307.27  83553.1 ]\n",
      " [ 77877.75  77847.29]\n",
      " [120414.02 120375.63]\n",
      " [ 93380.44  93280.92]\n",
      " [139020.63 138022.72]\n",
      " [143604.67 142586.35]\n",
      " [171148.31 170883.89]\n",
      " [140082.97 139080.34]\n",
      " [106369.72 106212.33]\n",
      " [155641.44 154569.49]\n",
      " [140030.1  139722.76]\n",
      " [110172.88 109998.55]\n",
      " [ 69672.99  68984.02]\n",
      " [ 88148.52  88072.31]\n",
      " [140133.6  139130.74]\n",
      " [148479.1  148134.12]\n",
      " [157916.64 157529.61]\n",
      " [ 58532.95  57893.61]\n",
      " [ 93707.38  93606.41]\n",
      " [112646.37 112642.58]\n",
      " [ 56556.19  56620.72]\n",
      " [107414.9  107252.86]\n",
      " [147352.8  147194.39]\n",
      " [152144.1  151782.79]\n",
      " [167808.12 167377.03]\n",
      " [118750.25 117842.65]\n",
      " [120763.28 120723.32]\n",
      " [139029.95 138908.62]\n",
      " [157527.91 157142.62]\n",
      " [121962.06 121916.77]\n",
      " [ 87091.32  87019.82]\n",
      " [104792.91 104824.11]\n",
      " [ 95335.23  95227.  ]\n",
      " [178389.52 177911.3 ]\n",
      " [181942.64 180753.52]\n",
      " [109831.35 109658.54]\n",
      " [165254.03 164139.26]\n",
      " [167806.06 166679.93]\n",
      " [158002.45 157615.04]\n",
      " [174782.87 174320.71]\n",
      " [170196.77 169059.98]\n",
      " [ 52302.18  51690.6 ]\n",
      " [176938.12 175771.3 ]\n",
      " [104751.84 103906.6 ]\n",
      " [ 82710.32  81963.27]\n",
      " [138890.53 138588.26]\n",
      " [144274.75 144130.05]\n",
      " [161679.02 161456.79]\n",
      " [169662.05 169404.26]\n",
      " [120450.92 120412.36]\n",
      " [158880.71 158670.95]\n",
      " [110213.73 109344.16]\n",
      " [169674.52 169235.11]\n",
      " [ 60760.61  60111.35]\n",
      " [159037.   157949.92]\n",
      " [158169.44 157086.23]\n",
      " [174511.7  174050.75]\n",
      " [156294.8  155915.  ]\n",
      " [103714.38 102873.76]\n",
      " [ 85635.96  85570.94]\n",
      " [141603.55 140594.14]\n",
      " [165917.69 165495.02]\n",
      " [121182.04 121140.22]\n",
      " [170751.88 152211.77]\n",
      " [100505.78 100556.07]\n",
      " [ 82097.51  82229.81]\n",
      " [178643.19 177468.77]\n",
      " [101790.48 100958.44]\n",
      " [ 70507.41  70509.78]\n",
      " [ 90250.04  90164.47]\n",
      " [ 61247.5   61291.13]\n",
      " [ 68912.18  68921.66]\n",
      " [ 72775.82  72949.64]\n",
      " [176914.09 175747.38]\n",
      " [ 89704.69  89803.1 ]\n",
      " [129209.44  96712.8 ]\n",
      " [ 92672.91  92758.09]\n",
      " [ 88133.59  99937.59]\n",
      " [172836.33 171687.78]\n",
      " [ 60893.62  60243.76]\n",
      " [169015.89 168760.98]\n",
      " [166450.24 165330.15]\n",
      " [165425.54 165186.63]\n",
      " [102170.52 102213.39]\n",
      " [181594.58 181102.07]\n",
      " [ 73702.58  73872.28]\n",
      " [ 91267.43  90482.26]\n",
      " [135791.54 134808.02]\n",
      " [ 64922.8   64950.06]\n",
      " [ 71775.7   71772.43]\n",
      " [ 60603.91  60650.41]\n",
      " [184288.61 183965.66]\n",
      " [176286.7  175999.39]\n",
      " [158907.76 158516.32]\n",
      " [141359.32 141046.06]\n",
      " [154611.18 154238.88]\n",
      " [ 58549.59  58605.23]\n",
      " [ 90618.58  90712.92]\n",
      " [152885.51 152520.9 ]\n",
      " [168398.05 168145.89]\n",
      " [ 72485.36  72478.93]\n",
      " [116064.24 116045.22]\n",
      " [ 80087.81  80229.06]\n",
      " [149828.91 149477.92]\n",
      " [116806.96 116603.08]\n",
      " [130191.49 129232.92]\n",
      " [174534.43 174254.93]\n",
      " [293584.46 476485.43]\n",
      " [146270.83 145240.63]\n",
      " [150646.69 150292.06]\n",
      " [ 86107.48  86221.91]\n",
      " [ 69967.21  70153.54]\n",
      " [ 70096.78  70282.54]\n",
      " [ 69033.69  68347.57]\n",
      " [120666.76 120445.68]\n",
      " [ 89677.68  89594.65]\n",
      " [166824.27 166579.12]\n",
      " [125514.77 124577.03]\n",
      " [ 67209.68  67226.74]\n",
      " [140930.69 156991.12]\n",
      " [118544.3  117637.62]\n",
      " [165897.62 164779.98]\n",
      " [168655.49 168402.18]\n",
      " [147009.67 145976.18]\n",
      " [141396.22 141082.79]\n",
      " [109086.51 108917.02]]\n"
     ]
    }
   ],
   "source": [
    "y_pred = regressor.predict(X_test)\n",
    "np.set_printoptions(precision=2)\n",
    "print(np.concatenate((y_pred.reshape(len(y_pred),1)\n",
    "                     , y_test.reshape(len(y_test),1)),1))"
   ]
  },
  {
   "cell_type": "code",
   "execution_count": 71,
   "id": "6e892af2",
   "metadata": {},
   "outputs": [
    {
     "name": "stdout",
     "output_type": "stream",
     "text": [
      "R-squared value for the training set:  0.9585497032796175\n",
      "R-squared value for the training set:  0.9112695892268834\n"
     ]
    }
   ],
   "source": [
    "# print the R-squared value for the training data\n",
    "r_squared_train = regressor.score(X_train, y_train)\n",
    "print('R-squared value for the training set: ', r_squared_train)\n",
    "\n",
    "# print the R-squared value for the test data\n",
    "r_squared_test = regressor.score(X_test, y_test)\n",
    "print('R-squared value for the training set: ', r_squared_test)"
   ]
  },
  {
   "cell_type": "code",
   "execution_count": 72,
   "id": "74a27e22",
   "metadata": {},
   "outputs": [
    {
     "name": "stdout",
     "output_type": "stream",
     "text": [
      "y = -880.54*x0 + -698.17*x1 + 0.53*x2 + 0.84*x3 + 0.11*x4 + -51035.23\n"
     ]
    }
   ],
   "source": [
    "coefficients = regressor.coef_\n",
    "intercept = regressor.intercept_\n",
    "\n",
    "equation = 'y = '\n",
    "for i in range(len(coefficients)):\n",
    "    equation += f\"{coefficients[i]:.2f}*x{i} + \"\n",
    "equation += f\"{intercept:.2f}\"\n",
    "\n",
    "print(equation)"
   ]
  },
  {
   "cell_type": "markdown",
   "id": "5465657f",
   "metadata": {},
   "source": [
    "**What does the model equation look like? Compare it with the model obtained in part 1.**\n",
    "The model equations for both data sets are similar, but the coefficients and error terms are different, as they are estimated using different data sets.\n",
    "\n",
    "**Determine the fitting of the model**\n",
    "By examining the R-squared values which is both 90% above, you can determine the fitting of the multiple regression model which is fitting for the two datasets.\n",
    "\n",
    "**Does the number of sample data affect the success of the model? How so?**\n",
    "Yes, the number of sample data affects the success of the model. Higher number of sample data seems to give much more reliable coefficients. Here are what impacts the each model's performance, looking at the precision of each model, as the number of sample data increases the model tends to have better precision and accuracy. Larger sample size helps improve the model's ability to generalize well to unseen data and reduces the likelihood of overfitting."
   ]
  }
 ],
 "metadata": {
  "kernelspec": {
   "display_name": "Python 3 (ipykernel)",
   "language": "python",
   "name": "python3"
  },
  "language_info": {
   "codemirror_mode": {
    "name": "ipython",
    "version": 3
   },
   "file_extension": ".py",
   "mimetype": "text/x-python",
   "name": "python",
   "nbconvert_exporter": "python",
   "pygments_lexer": "ipython3",
   "version": "3.10.11"
  }
 },
 "nbformat": 4,
 "nbformat_minor": 5
}
